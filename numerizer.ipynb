{
 "cells": [
  {
   "cell_type": "code",
   "execution_count": 1,
   "id": "0beecd58",
   "metadata": {},
   "outputs": [],
   "source": [
    "from numerizer import numerize"
   ]
  },
  {
   "cell_type": "code",
   "execution_count": 2,
   "id": "4c31da1d",
   "metadata": {},
   "outputs": [
    {
     "data": {
      "text/plain": [
       "'42'"
      ]
     },
     "execution_count": 2,
     "metadata": {},
     "output_type": "execute_result"
    }
   ],
   "source": [
    "numerize('forty two')"
   ]
  },
  {
   "cell_type": "code",
   "execution_count": 3,
   "id": "ba3e2081",
   "metadata": {},
   "outputs": [
    {
     "data": {
      "text/plain": [
       "'42'"
      ]
     },
     "execution_count": 3,
     "metadata": {},
     "output_type": "execute_result"
    }
   ],
   "source": [
    "numerize('forty-two')"
   ]
  },
  {
   "cell_type": "code",
   "execution_count": 4,
   "id": "e0ed66c1",
   "metadata": {},
   "outputs": [
    {
     "data": {
      "text/plain": [
       "'462'"
      ]
     },
     "execution_count": 4,
     "metadata": {},
     "output_type": "execute_result"
    }
   ],
   "source": [
    "numerize('four hundred and sixty two')"
   ]
  },
  {
   "cell_type": "code",
   "execution_count": 5,
   "id": "606d9c46",
   "metadata": {},
   "outputs": [
    {
     "data": {
      "text/plain": [
       "'150'"
      ]
     },
     "execution_count": 5,
     "metadata": {},
     "output_type": "execute_result"
    }
   ],
   "source": [
    "numerize('one fifty')"
   ]
  },
  {
   "cell_type": "code",
   "execution_count": 6,
   "id": "cb01a77b",
   "metadata": {},
   "outputs": [
    {
     "data": {
      "text/plain": [
       "'1200'"
      ]
     },
     "execution_count": 6,
     "metadata": {},
     "output_type": "execute_result"
    }
   ],
   "source": [
    "numerize('twelve hundred')"
   ]
  },
  {
   "cell_type": "code",
   "execution_count": 7,
   "id": "fadcd6b9",
   "metadata": {},
   "outputs": [
    {
     "data": {
      "text/plain": [
       "'21473'"
      ]
     },
     "execution_count": 7,
     "metadata": {},
     "output_type": "execute_result"
    }
   ],
   "source": [
    "numerize('twenty one thousand four hundred and seventy three')"
   ]
  },
  {
   "cell_type": "code",
   "execution_count": 8,
   "id": "e51b41e3",
   "metadata": {},
   "outputs": [
    {
     "data": {
      "text/plain": [
       "'1250007'"
      ]
     },
     "execution_count": 8,
     "metadata": {},
     "output_type": "execute_result"
    }
   ],
   "source": [
    "numerize('one million two hundred and fifty thousand and seven')"
   ]
  },
  {
   "cell_type": "code",
   "execution_count": 9,
   "id": "bcbf3674",
   "metadata": {},
   "outputs": [
    {
     "data": {
      "text/plain": [
       "'1000000001'"
      ]
     },
     "execution_count": 9,
     "metadata": {},
     "output_type": "execute_result"
    }
   ],
   "source": [
    "numerize('one billion and one')"
   ]
  },
  {
   "cell_type": "code",
   "execution_count": 10,
   "id": "ea4a441d",
   "metadata": {},
   "outputs": [
    {
     "data": {
      "text/plain": [
       "'9.75'"
      ]
     },
     "execution_count": 10,
     "metadata": {},
     "output_type": "execute_result"
    }
   ],
   "source": [
    "numerize('nine and three quarters')"
   ]
  },
  {
   "cell_type": "code",
   "execution_count": 11,
   "id": "665bf718",
   "metadata": {},
   "outputs": [
    {
     "data": {
      "text/plain": [
       "'platform 9.75'"
      ]
     },
     "execution_count": 11,
     "metadata": {},
     "output_type": "execute_result"
    }
   ],
   "source": [
    "numerize('platform nine and three quarters')"
   ]
  },
  {
   "cell_type": "code",
   "execution_count": null,
   "id": "3fbfe80f",
   "metadata": {},
   "outputs": [],
   "source": []
  }
 ],
 "metadata": {
  "kernelspec": {
   "display_name": "Python 3 (ipykernel)",
   "language": "python",
   "name": "python3"
  },
  "language_info": {
   "codemirror_mode": {
    "name": "ipython",
    "version": 3
   },
   "file_extension": ".py",
   "mimetype": "text/x-python",
   "name": "python",
   "nbconvert_exporter": "python",
   "pygments_lexer": "ipython3",
   "version": "3.10.5"
  }
 },
 "nbformat": 4,
 "nbformat_minor": 5
}
